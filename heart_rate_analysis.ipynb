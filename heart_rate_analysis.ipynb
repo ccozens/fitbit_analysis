{
 "cells": [
  {
   "cell_type": "markdown",
   "metadata": {},
   "source": [
    "# Intro\n",
    "Analysis of daily heart rate data over first 2 months of fitbit use."
   ]
  },
  {
   "cell_type": "code",
   "execution_count": 117,
   "metadata": {},
   "outputs": [],
   "source": [
    "# imports\n",
    "\n",
    "import pandas as pd\n",
    "from matplotlib import pyplot as plt\n",
    "from matplotlib.offsetbox import AnchoredText\n",
    "import matplotlib.patches as mpatch\n",
    "import numpy as np\n",
    "from datetime import datetime"
   ]
  },
  {
   "cell_type": "code",
   "execution_count": 135,
   "metadata": {},
   "outputs": [
    {
     "name": "stdout",
     "output_type": "stream",
     "text": [
      "Data preview: \n",
      "        date  restingHeartRate  normal_max  normal_min  normal_minutes  \\\n",
      "0 2022-04-21                58         107          30            1396   \n",
      "1 2022-04-22                58         107          30            1437   \n",
      "2 2022-04-23                58         107          30            1405   \n",
      "3 2022-04-24                58         106          30            1439   \n",
      "4 2022-04-25                58         107          30            1411   \n",
      "\n",
      "   fatBurn_max  fatBurn_min  fatBurn_minutes  cardio_max  cardio_min  \\\n",
      "0          132          107               42         163         132   \n",
      "1          132          107                3         163         132   \n",
      "2          132          107               35         163         132   \n",
      "3          131          106                1         163         131   \n",
      "4          132          107               28         163         132   \n",
      "\n",
      "   cardio_minutes  weekDay   dayName  \n",
      "0               2        3  Thursday  \n",
      "1               0        4    Friday  \n",
      "2               0        5  Saturday  \n",
      "3               0        6    Sunday  \n",
      "4               1        0    Monday  \n",
      "\n",
      "Check datatypes: \n",
      "date                datetime64[ns]\n",
      "restingHeartRate             int64\n",
      "normal_max                   int64\n",
      "normal_min                   int64\n",
      "normal_minutes               int64\n",
      "fatBurn_max                  int64\n",
      "fatBurn_min                  int64\n",
      "fatBurn_minutes              int64\n",
      "cardio_max                   int64\n",
      "cardio_min                   int64\n",
      "cardio_minutes               int64\n",
      "weekDay                      int64\n",
      "dayName                     object\n",
      "dtype: object\n"
     ]
    }
   ],
   "source": [
    "# import data\n",
    "allHeartDF = pd.read_csv('working/allHeart.csv', index_col=0)\n",
    "\n",
    "# convert datatype\n",
    "allHeartDF['date'] = pd.to_datetime(allHeartDF['date'], format='%Y-%m-%d')\n",
    "\n",
    "# add day of week (0 = Monday, 6 = Sunday)\n",
    "allHeartDF['weekDay'] = allHeartDF['date'].dt.dayofweek\n",
    "\n",
    "# add day name\n",
    "allHeartDF['dayName'] = allHeartDF['date'].dt.day_name()\n",
    "\n",
    "# rename columsnas all min and max inverted - will amend api script but don't want to rerun now\n",
    "allHeartDF.rename(columns={'normal_min': 'normal_max', 'normal_max': 'normal_min', 'fatBurn_min': 'fatBurn_max', 'fatBurn_max': 'fatBurn_min', 'cardio_min': 'cardio_max', 'cardio_max': 'cardio_min'}, inplace=True)\n",
    "\n",
    "# preview data and confirm datatypes\n",
    "print('Data preview: \\n' \n",
    "        +str(allHeartDF.head()) +'\\n'\n",
    "        +'\\n'\n",
    "        'Check datatypes: \\n' \n",
    "        +str(allHeartDF.dtypes))\n",
    "\n"
   ]
  },
  {
   "cell_type": "code",
   "execution_count": null,
   "metadata": {},
   "outputs": [],
   "source": []
  },
  {
   "cell_type": "code",
   "execution_count": null,
   "metadata": {},
   "outputs": [],
   "source": []
  },
  {
   "cell_type": "code",
   "execution_count": null,
   "metadata": {},
   "outputs": [],
   "source": []
  },
  {
   "cell_type": "markdown",
   "metadata": {},
   "source": [
    "# Data explanation\n",
    "This is daily data, meaning there is adate and single data entry for each day, always in bpm (beats per minute). Note that date format is yyyy-mm-dd (ie year, month, day). \n",
    "\n",
    "Firstly, there are two heart rate parameters Fitbit calculates that aren't shown here:\n",
    "Maximum heart rate is commonly defined as \"220 - age\", in my case \"220-38 = 182\"\n",
    "Heart rate reserve is the difference between resting heart rate and max heart rate, in my case \"182 - 58 = 124\". \n",
    "\n",
    "Secondly, Fitbit determines resting heart rate (restingHeartRate in the dataframe) by recording heart rate when asleep or awake but inactive (no steps detected) according to a proprietary algorithm. Resting heart rates are generally 60 - 100 bpm, with lower resting heart rates indicative of good heart health.\n",
    "\n",
    "Then there are 3 heart rate zones:  \n",
    "\n",
    "normal = Fitbit calls this \"below zones\" or \"out of range\", by which it means \"not in a fat burn or cardio zone\". I have called it \"normal\" as it is typical heart rate when going about day-to-day activities.  \n",
    "\n",
    "fatBurn = the first training zone, defined as 40-59% of heart rate reserve + resting heart rate, that is:  \n",
    "&emsp; fat burn zone bottom = $(0.4 * heart\\ rate\\ reserve) + resting\\ heart\\ rate$  \n",
    "&emsp; fat burn zone top = $(0.59 * heart\\ rate\\ reserve) + resting\\ heart\\ rate$  \n",
    "\n",
    "cardio = the second training zone, 60-84% of heart rate reserve + resting heart rate, that is:  \n",
    "&emsp; cardio zone bottom = $(0.6 * heart\\ rate\\ reserve) + resting\\ heart\\ rate$  \n",
    "&emsp; cardio zone top = $(0.84 * heart\\ rate\\ reserve) + resting\\ heart\\ rate$ \n",
    "\n",
    "peak = peak training zone, defined as 85% of heart rate reserve + resting heart rate to max heart rate, that is:   \n",
    "&emsp; peak zone bottom = $(0.85 * heart\\ rate\\ reserve) + resting\\ heart\\ rate$  \n",
    "&emsp; peak zone top = max heart rate\n",
    "\n",
    "\n",
    "See [here](https://help.fitbit.com/articles/en_US/Help_article/1565.htm) for more info on Fitbit heart rate zones."
   ]
  },
  {
   "cell_type": "code",
   "execution_count": 50,
   "metadata": {},
   "outputs": [
    {
     "name": "stdout",
     "output_type": "stream",
     "text": [
      "    My heart rate zones are: \n",
      "    Maximum Heart Rate: 182 \n",
      "    Heart Rate Reserve: 124 \n",
      "    Resting Heart Rate: 58 \n",
      "    Normal Zone: 30 - 107 \n",
      "    Fat Burn Zone: 108 - 131 \n",
      "    Cardio Zone: 132 - 162 \n",
      "    Peak Zone: 163 - 182 \n"
     ]
    }
   ],
   "source": [
    "# my heart rate zone calculations, according to fitbit\n",
    "\n",
    "age = 38\n",
    "restingHeartRate = allHeartDF['restingHeartRate'].mean()\n",
    "\n",
    "maxHeartRate = 220 - age # commonly defined as \"220 - age\"\n",
    "heartRateReserve = int(maxHeartRate - restingHeartRate)\n",
    " \n",
    "# normal zone boundaries - its not clear how Fitbit calculated this, so I've used their values\n",
    "normalZoneBottom = allHeartDF['normal_min'][0]\n",
    "normalZoneTop = allHeartDF['normal_max'][0]\n",
    "\n",
    "# fat burn zone boundaries\n",
    "fatBurnZoneBottom = (0.4 * heartRateReserve) + restingHeartRate\n",
    "fatBurnZoneTop = (0.59 * heartRateReserve) + restingHeartRate\n",
    "\n",
    "# cardio zone boundaries\n",
    "cardioZoneBottom = (0.6 * heartRateReserve) + restingHeartRate\n",
    "cardioZoneTop = (0.84 * heartRateReserve) + restingHeartRate\n",
    "\n",
    "# peak zone\n",
    "peakZoneBottom = (0.85 * heartRateReserve) + restingHeartRate\n",
    "peakZoneTop = maxHeartRate\n",
    "\n",
    "# print\n",
    "print(f\"\\\n",
    "    My heart rate zones are: \\n\\\n",
    "    Maximum Heart Rate: {maxHeartRate} \\n\\\n",
    "    Heart Rate Reserve: {heartRateReserve} \\n\\\n",
    "    Resting Heart Rate: {restingHeartRate:.0f} \\n\\\n",
    "    Normal Zone: {normalZoneBottom:.0f} - {normalZoneTop:.0f} \\n\\\n",
    "    Fat Burn Zone: {fatBurnZoneBottom:.0f} - {fatBurnZoneTop:.0f} \\n\\\n",
    "    Cardio Zone: {cardioZoneBottom:.0f} - {cardioZoneTop:.0f} \\n\\\n",
    "    Peak Zone: {peakZoneBottom:.0f} - {peakZoneTop:.0f} \")"
   ]
  },
  {
   "cell_type": "markdown",
   "metadata": {},
   "source": [
    "## Bar plots of my hert rate zones"
   ]
  },
  {
   "cell_type": "code",
   "execution_count": 92,
   "metadata": {},
   "outputs": [
    {
     "data": {
      "image/png": "[encoded data removed]",
      "text/plain": [
       "<Figure size 288x432 with 1 Axes>"
      ]
     },
     "metadata": {
      "needs_background": "light"
     },
     "output_type": "display_data"
    }
   ],
   "source": [
    "# plot as stacked bar\n",
    "# create figure\n",
    "fig, ax = plt.subplots(figsize=(4, 6))\n",
    "\n",
    "xlabels = [\"Normal\", \"Fat Burn\", \"Cardio\", \"Peak\"]\n",
    "\n",
    "# calculate zone sizes\n",
    "# these are needed to plot one above the other in stacked bar chart\n",
    "normalZoneSize = normalZoneTop - normalZoneBottom\n",
    "fatBurnZoneSize = fatBurnZoneTop - fatBurnZoneBottom\n",
    "cardioZoneSize = cardioZoneTop - cardioZoneBottom\n",
    "peakZoneSize = peakZoneTop - peakZoneBottom\n",
    "\n",
    "# add plots\n",
    "plt.bar(xlabels[0], normalZoneSize, bottom=normalZoneBottom)\n",
    "plt.bar(xlabels[1], fatBurnZoneSize, bottom=fatBurnZoneBottom)\n",
    "plt.bar(xlabels[2], cardioZoneSize, bottom=cardioZoneBottom)\n",
    "plt.bar(xlabels[3], peakZoneSize, bottom=peakZoneBottom)\n",
    "\n",
    "# amend y axis\n",
    "plt.ylim(0, 220)\n",
    "\n",
    "# add lines\n",
    "plt.axhline(y=restingHeartRate, color='#E1BE6A', linestyle='--', linewidth=1.5, label=\"Resting heart rate\")\n",
    "plt.axhline(y=maxHeartRate, color='#DC3220', linestyle='--', linewidth=1.5, label=\"Maximum heart rate\")\n",
    "\n",
    "# labels\n",
    "plt.ylabel(\"Beats per min\")\n",
    "plt.legend()\n",
    "\n",
    "plt.tight_layout()\n"
   ]
  },
  {
   "cell_type": "code",
   "execution_count": 89,
   "metadata": {},
   "outputs": [
    {
     "data": {
      "image/png": "[encoded data removed]",
      "text/plain": [
       "<Figure size 216x432 with 1 Axes>"
      ]
     },
     "metadata": {
      "needs_background": "light"
     },
     "output_type": "display_data"
    }
   ],
   "source": [
    "# plot as stacked bar\n",
    "# create figure\n",
    "fig, ax = plt.subplots(figsize=(3, 6))\n",
    "\n",
    "xlabel = [\"Zones\"]\n",
    "\n",
    "# calculate zone sizes\n",
    "# these are needed to plot one above the other in stacked bar chart\n",
    "normalZoneSize = normalZoneTop - normalZoneBottom\n",
    "fatBurnZoneSize = fatBurnZoneTop - fatBurnZoneBottom\n",
    "cardioZoneSize = cardioZoneTop - cardioZoneBottom\n",
    "peakZoneSize = peakZoneTop - peakZoneBottom\n",
    "# zone half size list - needed for plot annotation later on\n",
    "zoneHalfSizes = [(normalZoneTop-(normalZoneSize/2)), \n",
    "                (fatBurnZoneTop-(fatBurnZoneSize/2)), \n",
    "                (cardioZoneTop-(cardioZoneSize/2)), \n",
    "                (peakZoneTop-(peakZoneSize/2))]\n",
    "\n",
    "# add plots\n",
    "plt.bar(xlabel, normalZoneSize, bottom=normalZoneBottom) \n",
    "plt.bar(xlabel, fatBurnZoneSize, bottom=fatBurnZoneBottom)\n",
    "plt.bar(xlabel, cardioZoneSize, bottom=cardioZoneBottom)\n",
    "plt.bar(xlabel, peakZoneSize, bottom=peakZoneBottom)\n",
    "\n",
    "# amend y axis\n",
    "plt.ylim(0, 220)\n",
    "\n",
    "# add lines\n",
    "plt.axhline(y=restingHeartRate, color='#E1BE6A', linestyle='--', linewidth=1.5, label=\"Resting heart rate\")\n",
    "plt.axhline(y=maxHeartRate, color='#DC3220', linestyle='--', linewidth=1.5, label=\"Maximum heart rate\")\n",
    "\n",
    "# labels\n",
    "plt.ylabel(\"Beats per min\")\n",
    "\n",
    "barLabels = [\"Normal\", \"Fat Burn\", \"Cardio\", \"Peak\"]\n",
    "hLineLabels = [\"Resting Heart Rate\", \"Maximum Heart Rate\"]\n",
    "for i in range(len(barLabels)):\n",
    "    plt.annotate(barLabels[i], (xlabel, zoneHalfSizes[i]), ha='center', bbox={'facecolor': 'white', 'alpha': 0.4, 'edgecolor': 'none', 'pad': 2})\n",
    "plt.legend()\n",
    "\n",
    "# display\n",
    "plt.tight_layout()"
   ]
  },
  {
   "cell_type": "markdown",
   "metadata": {},
   "source": [
    "## Plots of time in each zone"
   ]
  },
  {
   "cell_type": "code",
   "execution_count": 137,
   "metadata": {},
   "outputs": [
    {
     "data": {
      "text/html": [
       "<div>\n",
       "<style scoped>\n",
       "    .dataframe tbody tr th:only-of-type {\n",
       "        vertical-align: middle;\n",
       "    }\n",
       "\n",
       "    .dataframe tbody tr th {\n",
       "        vertical-align: top;\n",
       "    }\n",
       "\n",
       "    .dataframe thead th {\n",
       "        text-align: right;\n",
       "    }\n",
       "</style>\n",
       "<table border=\"1\" class=\"dataframe\">\n",
       "  <thead>\n",
       "    <tr style=\"text-align: right;\">\n",
       "      <th></th>\n",
       "      <th>date</th>\n",
       "      <th>weekDay</th>\n",
       "      <th>dayName</th>\n",
       "      <th>normal_minutes</th>\n",
       "      <th>fatBurn_minutes</th>\n",
       "      <th>cardio_minutes</th>\n",
       "    </tr>\n",
       "  </thead>\n",
       "  <tbody>\n",
       "    <tr>\n",
       "      <th>0</th>\n",
       "      <td>2022-04-21</td>\n",
       "      <td>3</td>\n",
       "      <td>Thursday</td>\n",
       "      <td>1396</td>\n",
       "      <td>42</td>\n",
       "      <td>2</td>\n",
       "    </tr>\n",
       "    <tr>\n",
       "      <th>1</th>\n",
       "      <td>2022-04-22</td>\n",
       "      <td>4</td>\n",
       "      <td>Friday</td>\n",
       "      <td>1437</td>\n",
       "      <td>3</td>\n",
       "      <td>0</td>\n",
       "    </tr>\n",
       "    <tr>\n",
       "      <th>2</th>\n",
       "      <td>2022-04-23</td>\n",
       "      <td>5</td>\n",
       "      <td>Saturday</td>\n",
       "      <td>1405</td>\n",
       "      <td>35</td>\n",
       "      <td>0</td>\n",
       "    </tr>\n",
       "    <tr>\n",
       "      <th>3</th>\n",
       "      <td>2022-04-24</td>\n",
       "      <td>6</td>\n",
       "      <td>Sunday</td>\n",
       "      <td>1439</td>\n",
       "      <td>1</td>\n",
       "      <td>0</td>\n",
       "    </tr>\n",
       "    <tr>\n",
       "      <th>4</th>\n",
       "      <td>2022-04-25</td>\n",
       "      <td>0</td>\n",
       "      <td>Monday</td>\n",
       "      <td>1411</td>\n",
       "      <td>28</td>\n",
       "      <td>1</td>\n",
       "    </tr>\n",
       "  </tbody>\n",
       "</table>\n",
       "</div>"
      ],
      "text/plain": [
       "        date  weekDay   dayName  normal_minutes  fatBurn_minutes  \\\n",
       "0 2022-04-21        3  Thursday            1396               42   \n",
       "1 2022-04-22        4    Friday            1437                3   \n",
       "2 2022-04-23        5  Saturday            1405               35   \n",
       "3 2022-04-24        6    Sunday            1439                1   \n",
       "4 2022-04-25        0    Monday            1411               28   \n",
       "\n",
       "   cardio_minutes  \n",
       "0               2  \n",
       "1               0  \n",
       "2               0  \n",
       "3               0  \n",
       "4               1  "
      ]
     },
     "execution_count": 137,
     "metadata": {},
     "output_type": "execute_result"
    }
   ],
   "source": [
    "# gather data\n",
    "\n",
    "zoneTimeDF = allHeartDF[['date', 'weekDay', 'dayName', 'normal_minutes', 'fatBurn_minutes', 'cardio_minutes']]\n",
    "zoneTimeDF.head()"
   ]
  },
  {
   "cell_type": "code",
   "execution_count": 138,
   "metadata": {},
   "outputs": [
    {
     "data": {
      "text/html": [
       "<div>\n",
       "<style scoped>\n",
       "    .dataframe tbody tr th:only-of-type {\n",
       "        vertical-align: middle;\n",
       "    }\n",
       "\n",
       "    .dataframe tbody tr th {\n",
       "        vertical-align: top;\n",
       "    }\n",
       "\n",
       "    .dataframe thead tr th {\n",
       "        text-align: left;\n",
       "    }\n",
       "</style>\n",
       "<table border=\"1\" class=\"dataframe\">\n",
       "  <thead>\n",
       "    <tr>\n",
       "      <th></th>\n",
       "      <th>dayName</th>\n",
       "      <th colspan=\"3\" halign=\"left\">normal_minutes</th>\n",
       "      <th colspan=\"3\" halign=\"left\">fatBurn_minutes</th>\n",
       "      <th colspan=\"3\" halign=\"left\">cardio_minutes</th>\n",
       "    </tr>\n",
       "    <tr>\n",
       "      <th></th>\n",
       "      <th></th>\n",
       "      <th>mean</th>\n",
       "      <th>max</th>\n",
       "      <th>min</th>\n",
       "      <th>mean</th>\n",
       "      <th>max</th>\n",
       "      <th>min</th>\n",
       "      <th>mean</th>\n",
       "      <th>max</th>\n",
       "      <th>min</th>\n",
       "    </tr>\n",
       "  </thead>\n",
       "  <tbody>\n",
       "    <tr>\n",
       "      <th>0</th>\n",
       "      <td>Friday</td>\n",
       "      <td>1421.444444</td>\n",
       "      <td>1439</td>\n",
       "      <td>1382</td>\n",
       "      <td>18.111111</td>\n",
       "      <td>57</td>\n",
       "      <td>1</td>\n",
       "      <td>0.444444</td>\n",
       "      <td>2</td>\n",
       "      <td>0</td>\n",
       "    </tr>\n",
       "    <tr>\n",
       "      <th>1</th>\n",
       "      <td>Monday</td>\n",
       "      <td>1418.250000</td>\n",
       "      <td>1435</td>\n",
       "      <td>1401</td>\n",
       "      <td>21.375000</td>\n",
       "      <td>37</td>\n",
       "      <td>5</td>\n",
       "      <td>0.375000</td>\n",
       "      <td>2</td>\n",
       "      <td>0</td>\n",
       "    </tr>\n",
       "    <tr>\n",
       "      <th>2</th>\n",
       "      <td>Saturday</td>\n",
       "      <td>1422.888889</td>\n",
       "      <td>1440</td>\n",
       "      <td>1405</td>\n",
       "      <td>17.111111</td>\n",
       "      <td>35</td>\n",
       "      <td>0</td>\n",
       "      <td>0.000000</td>\n",
       "      <td>0</td>\n",
       "      <td>0</td>\n",
       "    </tr>\n",
       "    <tr>\n",
       "      <th>3</th>\n",
       "      <td>Sunday</td>\n",
       "      <td>1421.000000</td>\n",
       "      <td>1439</td>\n",
       "      <td>1392</td>\n",
       "      <td>18.888889</td>\n",
       "      <td>48</td>\n",
       "      <td>1</td>\n",
       "      <td>0.111111</td>\n",
       "      <td>1</td>\n",
       "      <td>0</td>\n",
       "    </tr>\n",
       "    <tr>\n",
       "      <th>4</th>\n",
       "      <td>Thursday</td>\n",
       "      <td>1406.666667</td>\n",
       "      <td>1429</td>\n",
       "      <td>1365</td>\n",
       "      <td>32.777778</td>\n",
       "      <td>74</td>\n",
       "      <td>11</td>\n",
       "      <td>0.555556</td>\n",
       "      <td>2</td>\n",
       "      <td>0</td>\n",
       "    </tr>\n",
       "    <tr>\n",
       "      <th>5</th>\n",
       "      <td>Tuesday</td>\n",
       "      <td>1404.375000</td>\n",
       "      <td>1424</td>\n",
       "      <td>1377</td>\n",
       "      <td>34.125000</td>\n",
       "      <td>63</td>\n",
       "      <td>16</td>\n",
       "      <td>1.500000</td>\n",
       "      <td>8</td>\n",
       "      <td>0</td>\n",
       "    </tr>\n",
       "    <tr>\n",
       "      <th>6</th>\n",
       "      <td>Wednesday</td>\n",
       "      <td>1415.375000</td>\n",
       "      <td>1436</td>\n",
       "      <td>1380</td>\n",
       "      <td>23.625000</td>\n",
       "      <td>57</td>\n",
       "      <td>4</td>\n",
       "      <td>0.875000</td>\n",
       "      <td>5</td>\n",
       "      <td>0</td>\n",
       "    </tr>\n",
       "  </tbody>\n",
       "</table>\n",
       "</div>"
      ],
      "text/plain": [
       "     dayName normal_minutes             fatBurn_minutes          \\\n",
       "                       mean   max   min            mean max min   \n",
       "0     Friday    1421.444444  1439  1382       18.111111  57   1   \n",
       "1     Monday    1418.250000  1435  1401       21.375000  37   5   \n",
       "2   Saturday    1422.888889  1440  1405       17.111111  35   0   \n",
       "3     Sunday    1421.000000  1439  1392       18.888889  48   1   \n",
       "4   Thursday    1406.666667  1429  1365       32.777778  74  11   \n",
       "5    Tuesday    1404.375000  1424  1377       34.125000  63  16   \n",
       "6  Wednesday    1415.375000  1436  1380       23.625000  57   4   \n",
       "\n",
       "  cardio_minutes          \n",
       "            mean max min  \n",
       "0       0.444444   2   0  \n",
       "1       0.375000   2   0  \n",
       "2       0.000000   0   0  \n",
       "3       0.111111   1   0  \n",
       "4       0.555556   2   0  \n",
       "5       1.500000   8   0  \n",
       "6       0.875000   5   0  "
      ]
     },
     "execution_count": 138,
     "metadata": {},
     "output_type": "execute_result"
    }
   ],
   "source": [
    "# gropu by weekday and calc mean, min and max for all zones\n",
    "zoneTimeGroupedByDay = zoneTimeDF.groupby('dayName').agg({'normal_minutes': ['mean', 'max', 'min'], 'fatBurn_minutes': ['mean', 'max', 'min'], 'cardio_minutes': ['mean', 'max', 'min']}).reset_index()\n",
    "\n",
    "# rename columns\n",
    "#zoneTimeGroupedByDay.columns['weekDay', 'normal_mean', 'normal_max', 'normal_min', 'fatBurn_mean', 'fatBurn_max', 'fatBurn_min', 'cardio_mean', 'cardio_max', 'cardio_min']\n",
    "\n",
    "zoneTimeGroupedByDay"
   ]
  },
  {
   "cell_type": "code",
   "execution_count": 145,
   "metadata": {},
   "outputs": [
    {
     "data": {
      "text/plain": [
       "'Friday'"
      ]
     },
     "execution_count": 145,
     "metadata": {},
     "output_type": "execute_result"
    }
   ],
   "source": [
    "zoneTimeGroupedByDay.iloc[0][0]"
   ]
  },
  {
   "cell_type": "code",
   "execution_count": 156,
   "metadata": {},
   "outputs": [
    {
     "data": {
      "image/png": "[encoded data removed]",
      "text/plain": [
       "<Figure size 288x432 with 1 Axes>"
      ]
     },
     "metadata": {
      "needs_background": "light"
     },
     "output_type": "display_data"
    }
   ],
   "source": [
    "# plot fatburn and cardio minutes by day\n",
    "\n",
    "fix, ax = plt.subplots(figsize=(4, 6))\n",
    "\n",
    "# plot\n",
    "plt.bar(zoneTimeGroupedByDay['dayName'], zoneTimeGroupedByDay['fatBurn_minutes']['mean'])\n",
    "plt.bar(zoneTimeGroupedByDay['dayName'], zoneTimeGroupedByDay['cardio_minutes']['mean'])\n",
    "\n",
    "# add target line\n",
    "plt.axhline(y=22, color='#E1BE6A', linestyle='--', linewidth=1.5, label=\"Zone mins target\")\n",
    "\n",
    "# labels\n",
    "plt.legend()\n",
    "plt.xticks(rotation=90.0)\n",
    "plt.ylabel(\"Active Zone Minutes\")\n",
    "plt.title(\"Average Active Zone Minutes Per Day\")\n",
    "# display\n",
    "plt.tight_layout()\n"
   ]
  },
  {
   "cell_type": "code",
   "execution_count": null,
   "metadata": {},
   "outputs": [],
   "source": []
  },
  {
   "cell_type": "code",
   "execution_count": null,
   "metadata": {},
   "outputs": [],
   "source": []
  },
  {
   "cell_type": "markdown",
   "metadata": {},
   "source": [
    "## Weekly target met plot (zone mins)\n",
    "Fitbit sets a default goal of 22 Active Zone Minutes per day.\n",
    "1 min in Fat Burn Zone earns 1 Active Zone Minutes\n",
    "2 mins in Cardio or Peak Zones earns 2 Active Zone Minutes"
   ]
  },
  {
   "cell_type": "code",
   "execution_count": 132,
   "metadata": {},
   "outputs": [
    {
     "data": {
      "text/plain": [
       "array([[0, 1, 1, 0, 0, 0, 1],\n",
       "       [1, 0, 0, 1, 1, 1, 0]])"
      ]
     },
     "execution_count": 132,
     "metadata": {},
     "output_type": "execute_result"
    }
   ],
   "source": [
    "# calc active zone minutes and append to DF\n",
    "\n",
    "allHeartDF['zone_mins'] = allHeartDF['fatBurn_minutes'] + (allHeartDF['cardio_minutes'] *2)\n",
    "\n",
    "# create categorical dataset\n",
    "zoneMinsTarget = 22\n",
    "zoneMinsTargetMet = (allHeartDF['zone_mins'].tail(7) > zoneMinsTarget).tolist()\n",
    "# create a [2,7] array of zeroes\n",
    "zoneMinsTargetMetArray = np.zeros([2, 7], dtype=int)\n",
    "\n",
    "# populate with 1/0\n",
    "for i in range(len(zoneMinsTargetMet)):\n",
    "    if zoneMinsTargetMet[i] == True:\n",
    "        zoneMinsTargetMetArray[0][i] +=1\n",
    "    else:\n",
    "        zoneMinsTargetMetArray[1][i] +=1\n",
    "\n",
    "zoneMinsTargetMetArray"
   ]
  },
  {
   "cell_type": "code",
   "execution_count": 136,
   "metadata": {},
   "outputs": [
    {
     "data": {
      "image/png": "[encoded data removed]",
      "text/plain": [
       "<Figure size 432x288 with 1 Axes>"
      ]
     },
     "metadata": {
      "needs_background": "light"
     },
     "output_type": "display_data"
    }
   ],
   "source": [
    "# list out last 7 days\n",
    "heatMapLabels = allHeartDF['dayName'].tail(7).tolist()\n",
    "\n",
    "# create plot\n",
    "fig, ax = plt.subplots()\n",
    "\n",
    "# set x ticklabels as days, rotate, right align\n",
    "ax.set_xticks(np.arange(len(heatMapLabels)), labels=heatMapLabels, rotation=45.0, ha=\"right\", rotation_mode=\"anchor\")\n",
    "# hide tick markers\n",
    "ax.tick_params(which=\"major\", bottom=False, left=False)\n",
    "\n",
    "# from matplotlib import colors\n",
    "im = ax.imshow(zoneMinsTargetMetArray, cmap='autumn')\n",
    "\n",
    "# set y ticks as Yes / No\n",
    "yLabels = [\"Target met\", \"Target not met\"]\n",
    "ax.set_yticks(np.arange(len(yLabels)), labels=yLabels)\n",
    "\n",
    "plt.show()"
   ]
  },
  {
   "cell_type": "code",
   "execution_count": null,
   "metadata": {},
   "outputs": [],
   "source": []
  }
 ],
 "metadata": {
  "kernelspec": {
   "display_name": "Python 3.9.5 ('.fitenv': venv)",
   "language": "python",
   "name": "python3"
  },
  "language_info": {
   "codemirror_mode": {
    "name": "ipython",
    "version": 3
   },
   "file_extension": ".py",
   "mimetype": "text/x-python",
   "name": "python",
   "nbconvert_exporter": "python",
   "pygments_lexer": "ipython3",
   "version": "3.9.5"
  },
  "orig_nbformat": 4,
  "vscode": {
   "interpreter": {
    "hash": "be045aa2e5b8a6045b5a2c43a3fede2d65f53664ebbe9ed391d2596ba080a904"
   }
  }
 },
 "nbformat": 4,
 "nbformat_minor": 2
}
