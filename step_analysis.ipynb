{
 "cells": [
  {
   "cell_type": "markdown",
   "metadata": {},
   "source": [
    "# Intro\n",
    "Analysis of step data over first 2 months of fitbit usage."
   ]
  },
  {
   "cell_type": "code",
   "execution_count": 382,
   "metadata": {},
   "outputs": [],
   "source": [
    "# imports\n",
    "\n",
    "import pandas as pd\n",
    "from matplotlib import pyplot as plt\n",
    "from matplotlib.offsetbox import AnchoredText\n",
    "import matplotlib.patches as mpatch\n",
    "from datetime import datetime\n"
   ]
  },
  {
   "cell_type": "code",
   "execution_count": 383,
   "metadata": {},
   "outputs": [
    {
     "name": "stdout",
     "output_type": "stream",
     "text": [
      "Data preview: \n",
      "        date  steps  weekDay\n",
      "0 2022-04-21  16273        3\n",
      "1 2022-04-22   9631        4\n",
      "2 2022-04-23  10293        5\n",
      "3 2022-04-24   9349        6\n",
      "4 2022-04-25  10533        0\n",
      "\n",
      "Check datatypes: \n",
      "date       datetime64[ns]\n",
      "steps               int64\n",
      "weekDay             int64\n",
      "dtype: object\n"
     ]
    }
   ],
   "source": [
    "# import data\n",
    "allStepDF = pd.read_csv('working/allStep.csv', index_col=0)\n",
    "\n",
    "# convert datatype\n",
    "allStepDF['date'] = pd.to_datetime(allStepDF['date'], format='%Y-%m-%d')\n",
    "\n",
    "# add day of week (0 = Monday, 6 = Sunday)\n",
    "# allStepDF['weekDay'] = pd.date_range(start=allStepDF['date'][0], freq='D', periods=len(allStepDF['date'])).dayofweek\n",
    "allStepDF['weekDay'] = allStepDF['date'].dt.dayofweek\n",
    "\n",
    "# preview data and confirm datatypes\n",
    "print('Data preview: \\n' \n",
    "        +str(allStepDF.head()) +'\\n'\n",
    "        +'\\n'\n",
    "        'Check datatypes: \\n' \n",
    "        +str(allStepDF.dtypes))"
   ]
  },
  {
   "cell_type": "code",
   "execution_count": null,
   "metadata": {},
   "outputs": [],
   "source": []
  },
  {
   "cell_type": "markdown",
   "metadata": {},
   "source": [
    "# Plots"
   ]
  },
  {
   "cell_type": "markdown",
   "metadata": {},
   "source": [
    "## Plot daily data"
   ]
  },
  {
   "cell_type": "code",
   "execution_count": 384,
   "metadata": {},
   "outputs": [
    {
     "data": {
      "image/png": "[encoded data removed]",
      "text/plain": [
       "<Figure size 1152x576 with 1 Axes>"
      ]
     },
     "metadata": {
      "needs_background": "light"
     },
     "output_type": "display_data"
    }
   ],
   "source": [
    "# all days\n",
    "# create figure and axes\n",
    "fig, ax = plt.subplots(figsize=(16, 8))\n",
    "\n",
    "# plot steps for all days, weekends coloured yellow. I\n",
    "colors = [\"#FFC20A\" if day >= 5 else \"#0C7BDC\" for day in allStepDF['weekDay']] # colors from https://davidmathlogic.com/colorblind/#%23D81B60-%231E88E5-%23FFC107-%23004D40\n",
    "plt.bar(allStepDF['date'], allStepDF['steps'], color=colors)\n",
    "\n",
    "# add line at 10000/day target\n",
    "ax.axhline(y=10000, color='red', linestyle='--')\n",
    "ax.annotate('Steps per day target', xy=(0.003, 0.468), xycoords='axes fraction', color='red', bbox={'facecolor': 'white', 'alpha': 0.8, 'edgecolor': 'none', 'pad': 2})\n",
    "\n",
    "\n",
    "#labels\n",
    "colors = {\"Weekend\" : \"#FFC20A\", \"Week day\": \"#0C7BDC\"}\n",
    "labels = list(colors.keys())\n",
    "handles = [plt.Rectangle((0,0),1,1, color=colors[label]) for label in labels]\n",
    "\n",
    "\n",
    "formattedDates = [x.strftime(\"%b %d %Y\") for x in allStepDF['date']]\n",
    "plt.title(f'Steps per day from {formattedDates[0]} to {formattedDates[-1]}')\n",
    "plt.xlabel('Date')\n",
    "plt.ylabel('Steps')\n",
    "plt.legend(handles, labels)\n",
    "plt.margins(x=0.01) # adjust whitespace between bars and vertical edges\n",
    "\n",
    "plt.show()"
   ]
  },
  {
   "cell_type": "code",
   "execution_count": 385,
   "metadata": {},
   "outputs": [
    {
     "name": "stdout",
     "output_type": "stream",
     "text": [
      "Almost all days were over target. \n",
      "55 / 60 were over target. \n",
      "5 / 60 were under target. \n",
      "The days under target were: Apr 22, Apr 24, May 20, May 27, May 28.\n"
     ]
    }
   ],
   "source": [
    "# number of steps per day over target\n",
    "stepsTarget = 10000\n",
    "\n",
    "countDaysOverTarget = (allStepDF['steps'] >= stepsTarget).sum()\n",
    "countDaysUnderTarget = (allStepDF['steps'] < stepsTarget).sum()\n",
    "\n",
    "totalDays = len(allStepDF['steps'])\n",
    "actualDaysUnderTarget = allStepDF[allStepDF['steps']<stepsTarget]['date']\n",
    "actualDaysUnderTargetFormatted = []\n",
    "for i in range(len(actualDaysUnderTarget)):\n",
    "    actualDaysUnderTargetFormatted.append(actualDaysUnderTarget.iloc[i].strftime(\"%b %d\"))\n",
    "\n",
    "\n",
    "print(f'\\\n",
    "Almost all days were over target. \\n\\\n",
    "{countDaysOverTarget} / {totalDays} were over target. \\n\\\n",
    "{countDaysUnderTarget} / {totalDays} were under target. \\n\\\n",
    "The days under target were: {\", \".join(str(x) for x in actualDaysUnderTargetFormatted)}.')"
   ]
  },
  {
   "cell_type": "code",
   "execution_count": 386,
   "metadata": {},
   "outputs": [
    {
     "name": "stdout",
     "output_type": "stream",
     "text": [
      "    The highest daily step count was 21094 on Tuesday 10th May \n",
      "    The lowest daily step count was 598 on Friday 27th May \n",
      "    The average number of steps was 14305, meaning 31 / 60 were above mean.\n"
     ]
    }
   ],
   "source": [
    "# max, min and mean\n",
    "maxSteps = allStepDF.loc[allStepDF['steps'].idxmax()]\n",
    "minSteps = allStepDF.loc[allStepDF['steps'].idxmin()]\n",
    "meanSteps = allStepDF['steps'].mean()\n",
    "daysOverMean = allStepDF[allStepDF['steps']>meanSteps]['date'].count()\n",
    "\n",
    "# print\n",
    "print(f\"\\\n",
    "    The highest daily step count was {maxSteps[1]} on {maxSteps[0].strftime('%A %dth %b')} \\n\\\n",
    "    The lowest daily step count was {minSteps[1]} on {minSteps[0].strftime('%A %dth %b')} \\n\\\n",
    "    The average number of steps was {meanSteps:.0f}, meaning {daysOverMean} / {len(allStepDF)} were above mean.\")"
   ]
  },
  {
   "cell_type": "code",
   "execution_count": 387,
   "metadata": {},
   "outputs": [
    {
     "name": "stdout",
     "output_type": "stream",
     "text": [
      "Data preview: \n",
      "        date  steps  weekDay   dayName\n",
      "0 2022-04-21  16273        3  Thursday\n",
      "1 2022-04-22   9631        4    Friday\n",
      "2 2022-04-23  10293        5  Saturday\n",
      "3 2022-04-24   9349        6    Sunday\n",
      "4 2022-04-25  10533        0    Monday\n",
      "\n",
      "Check datatypes: \n",
      "date       datetime64[ns]\n",
      "steps               int64\n",
      "weekDay             int64\n",
      "dayName            object\n",
      "dtype: object\n"
     ]
    }
   ],
   "source": [
    "# group by day and play daily averages\n",
    "\n",
    "# add day name column\n",
    "# add day of week (0 = Monday, 6 = Sunday)\n",
    "allStepDF['dayName'] = allStepDF['date'].dt.day_name()\n",
    "\n",
    "# preview data and confirm datatypes\n",
    "print('Data preview: \\n' \n",
    "        +str(allStepDF.head()) +'\\n'\n",
    "        +'\\n'\n",
    "        'Check datatypes: \\n' \n",
    "        +str(allStepDF.dtypes))"
   ]
  },
  {
   "cell_type": "markdown",
   "metadata": {},
   "source": [
    "## Group and plot means"
   ]
  },
  {
   "cell_type": "code",
   "execution_count": 471,
   "metadata": {},
   "outputs": [
    {
     "data": {
      "text/html": [
       "<div>\n",
       "<style scoped>\n",
       "    .dataframe tbody tr th:only-of-type {\n",
       "        vertical-align: middle;\n",
       "    }\n",
       "\n",
       "    .dataframe tbody tr th {\n",
       "        vertical-align: top;\n",
       "    }\n",
       "\n",
       "    .dataframe thead th {\n",
       "        text-align: right;\n",
       "    }\n",
       "</style>\n",
       "<table border=\"1\" class=\"dataframe\">\n",
       "  <thead>\n",
       "    <tr style=\"text-align: right;\">\n",
       "      <th></th>\n",
       "      <th>dayName</th>\n",
       "      <th>count</th>\n",
       "      <th>mean</th>\n",
       "    </tr>\n",
       "  </thead>\n",
       "  <tbody>\n",
       "    <tr>\n",
       "      <th>0</th>\n",
       "      <td>Friday</td>\n",
       "      <td>9</td>\n",
       "      <td>14810.222222</td>\n",
       "    </tr>\n",
       "    <tr>\n",
       "      <th>1</th>\n",
       "      <td>Monday</td>\n",
       "      <td>8</td>\n",
       "      <td>13051.500000</td>\n",
       "    </tr>\n",
       "    <tr>\n",
       "      <th>2</th>\n",
       "      <td>Saturday</td>\n",
       "      <td>9</td>\n",
       "      <td>13741.777778</td>\n",
       "    </tr>\n",
       "    <tr>\n",
       "      <th>3</th>\n",
       "      <td>Sunday</td>\n",
       "      <td>9</td>\n",
       "      <td>13766.222222</td>\n",
       "    </tr>\n",
       "    <tr>\n",
       "      <th>4</th>\n",
       "      <td>Thursday</td>\n",
       "      <td>9</td>\n",
       "      <td>15122.333333</td>\n",
       "    </tr>\n",
       "    <tr>\n",
       "      <th>5</th>\n",
       "      <td>Tuesday</td>\n",
       "      <td>8</td>\n",
       "      <td>14723.750000</td>\n",
       "    </tr>\n",
       "    <tr>\n",
       "      <th>6</th>\n",
       "      <td>Wednesday</td>\n",
       "      <td>8</td>\n",
       "      <td>14893.750000</td>\n",
       "    </tr>\n",
       "  </tbody>\n",
       "</table>\n",
       "</div>"
      ],
      "text/plain": [
       "     dayName  count          mean\n",
       "0     Friday      9  14810.222222\n",
       "1     Monday      8  13051.500000\n",
       "2   Saturday      9  13741.777778\n",
       "3     Sunday      9  13766.222222\n",
       "4   Thursday      9  15122.333333\n",
       "5    Tuesday      8  14723.750000\n",
       "6  Wednesday      8  14893.750000"
      ]
     },
     "execution_count": 471,
     "metadata": {},
     "output_type": "execute_result"
    }
   ],
   "source": [
    "allStepGroupByDay = allStepDF.groupby('dayName').steps.agg(['count', 'mean']).reset_index()\n",
    "allStepGroupByDay"
   ]
  },
  {
   "cell_type": "code",
   "execution_count": 472,
   "metadata": {},
   "outputs": [
    {
     "data": {
      "image/png": "[encoded data removed]",
      "text/plain": [
       "<Figure size 432x288 with 1 Axes>"
      ]
     },
     "metadata": {
      "needs_background": "light"
     },
     "output_type": "display_data"
    }
   ],
   "source": [
    "plt.bar(allStepGroupByDay['dayName'], allStepGroupByDay['mean'])\n",
    "plt.show()"
   ]
  },
  {
   "cell_type": "markdown",
   "metadata": {},
   "source": [
    "## plot histogram"
   ]
  },
  {
   "cell_type": "code",
   "execution_count": 451,
   "metadata": {},
   "outputs": [
    {
     "data": {
      "image/png": "[encoded data removed]",
      "text/plain": [
       "<Figure size 720x576 with 1 Axes>"
      ]
     },
     "metadata": {
      "needs_background": "light"
     },
     "output_type": "display_data"
    }
   ],
   "source": [
    "# plot histogram\n",
    "plt.figure(figsize=(10, 8))\n",
    "plt.hist(allStepDF.steps, color='#6DB0FD', edgecolor='#1A85FF')\n",
    "\n",
    "plt.grid(visible=True, which='major', axis='y', alpha=0.3)\n",
    "\n",
    "plt.axvline(x=10000, color='#DC3220', linestyle='--', linewidth=1.5, label=\"Target steps per day\")\n",
    "plt.axvline(x=meanSteps, color='#E1BE6A', linestyle='--', linewidth=1.5, label=\"Average steps per day\")\n",
    "\n",
    "# titles\n",
    "plt.title(f'Step distribution from {formattedDates[0]} to {formattedDates[-1]}')\n",
    "plt.xlabel('Number of steps')\n",
    "plt.ylabel('Number of days')\n",
    "plt.legend()\n",
    "\n",
    "plt.show()"
   ]
  }
 ],
 "metadata": {
  "kernelspec": {
   "display_name": ".fitenv",
   "language": "python",
   "name": ".fitenv"
  },
  "language_info": {
   "codemirror_mode": {
    "name": "ipython",
    "version": 3
   },
   "file_extension": ".py",
   "mimetype": "text/x-python",
   "name": "python",
   "nbconvert_exporter": "python",
   "pygments_lexer": "ipython3",
   "version": "3.9.5"
  },
  "orig_nbformat": 4
 },
 "nbformat": 4,
 "nbformat_minor": 2
}
